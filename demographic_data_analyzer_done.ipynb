{
 "cells": [
  {
   "cell_type": "code",
   "execution_count": 125,
   "metadata": {},
   "outputs": [],
   "source": [
    "import pandas as pd\n",
    "import numpy as np\n",
    "\n",
    "\n",
    "def calculate_demographic_data(print_data=True):\n",
    "    # Read data from file\n",
    "    df = pd.read_csv('adult.data.csv')\n",
    "\n",
    "    # How many of each race are represented in this dataset? This should be a Pandas series with race names as the index labels.\n",
    "    race_count = pd.Series(data = sorted([df['race'][df['race'] == race].count() for race in set(df['race'])], reverse=True), index=set(df['race']))\n",
    "\n",
    "    # What is the average age of men?\n",
    "    average_age_men = round(np.mean(df['age'][df['sex'] == 'Male']), 1)\n",
    "\n",
    "    # What is the percentage of people who have a Bachelor's degree?\n",
    "    percentage_bachelors = round((len(df[df['education'] == 'Bachelors'])*100/len(df)), 1)\n",
    "\n",
    "    # What percentage of people with advanced education (`Bachelors`, `Masters`, or `Doctorate`) make more than 50K?\n",
    "    # What percentage of people without advanced education make more than 50K?\n",
    "\n",
    "    # with and without `Bachelors`, `Masters`, or `Doctorate`\n",
    "    higher_education = ['Bachelors', 'Masters', 'Doctorate']\n",
    "    lower_education = [deg for deg in set(df['education']) if deg not in higher_education]\n",
    "\n",
    "    # percentage with salary >50K\n",
    "    higher_education_rich = round((sum([df['salary'][df['education'] == deg][df['salary'] == '>50K']\n",
    "    .count() for deg in higher_education]))*100/(sum([df['salary'][df['education'] == deg]\n",
    "    .count() for deg in higher_education])), 1)\n",
    "    lower_education_rich = round((sum([df['salary'][df['education'] == deg][df['salary'] == '>50K']\n",
    "    .count() for deg in lower_education]))*100/(sum([df['salary'][df['education'] == deg]\n",
    "    .count() for deg in lower_education])), 1)\n",
    "\n",
    "    # What is the minimum number of hours a person works per week (hours-per-week feature)?\n",
    "    min_work_hours = np.min(df['hours-per-week'])\n",
    "\n",
    "    # What percentage of the people who work the minimum number of hours per week have a salary of >50K?\n",
    "    num_min_workers = df['hours-per-week'] == min(df['hours-per-week'])\n",
    "\n",
    "    rich_percentage = int(len(df[df['salary'] == '>50K'][num_min_workers])*100/len(df['salary'][num_min_workers]))\n",
    "\n",
    "    # What country has the highest percentage of people that earn >50K?\n",
    "    salary_above_50 = {}\n",
    "    for country in set(df['native-country'][df['salary'] == '>50K']):\n",
    "        salary_above_50[country] = salary_above_50.get(country, df['native-country'][df['native-country'] == country][df['salary'] == '>50K']\n",
    "        .count()/df['native-country'][df['native-country'] == country]\n",
    "        .count())\n",
    "        \n",
    "    highest_earning_country = str\n",
    "    for key, val in salary_above_50.items(): \n",
    "        if val == max(list(salary_above_50.values())): \n",
    "            highest_earning_country = key\n",
    "\n",
    "    highest_earning_country_percentage = round(max(list(salary_above_50.values()))*100, 1)\n",
    "\n",
    "    # Identify the most popular occupation for those who earn >50K in India.\n",
    "    occ_sensus = {}\n",
    "    for occ in set(df['occupation'][df['native-country'] == 'India'][df['salary'] == '>50K']):\n",
    "        occ_sensus[occ] = occ_sensus.get(occ, df['occupation'][df['native-country'] == 'India'][df['salary'] == '>50K'][df['occupation'] == occ].count())\n",
    "        \n",
    "    top_IN_occupation = str\n",
    "    for key, val in occ_sensus.items():\n",
    "        if val == max(list(occ_sensus.values())):\n",
    "            top_IN_occupation = key\n",
    "\n",
    "    # DO NOT MODIFY BELOW THIS LINE\n",
    "\n",
    "    if print_data:\n",
    "        print(\"Number of each race:\\n\", race_count) \n",
    "        print(\"Average age of men:\", average_age_men)\n",
    "        print(f\"Percentage with Bachelors degrees: {percentage_bachelors}%\")\n",
    "        print(f\"Percentage with higher education that earn >50K: {higher_education_rich}%\")\n",
    "        print(f\"Percentage without higher education that earn >50K: {lower_education_rich}%\")\n",
    "        print(f\"Min work time: {min_work_hours} hours/week\")\n",
    "        print(f\"Percentage of rich among those who work fewest hours: {rich_percentage}%\")\n",
    "        print(\"Country with highest percentage of rich:\", highest_earning_country)\n",
    "        print(f\"Highest percentage of rich people in country: {highest_earning_country_percentage}%\")\n",
    "        print(\"Top occupations in India:\", top_IN_occupation)\n",
    "\n",
    "    return {\n",
    "        'race_count': race_count,\n",
    "        'average_age_men': average_age_men,\n",
    "        'percentage_bachelors': percentage_bachelors,\n",
    "        'higher_education_rich': higher_education_rich,\n",
    "        'lower_education_rich': lower_education_rich,\n",
    "        'min_work_hours': min_work_hours,\n",
    "        'rich_percentage': rich_percentage,\n",
    "        'highest_earning_country': highest_earning_country,\n",
    "        'highest_earning_country_percentage':\n",
    "        highest_earning_country_percentage,\n",
    "        'top_IN_occupation': top_IN_occupation\n",
    "    }\n"
   ]
  },
  {
   "cell_type": "code",
   "execution_count": null,
   "metadata": {},
   "outputs": [],
   "source": []
  },
  {
   "cell_type": "code",
   "execution_count": 120,
   "metadata": {},
   "outputs": [
    {
     "name": "stdout",
     "output_type": "stream",
     "text": [
      "0.4186046511627907\n",
      "[0.25, 0.2504288164665523, 0.05132192846034215, 0.41379310344827586, 0.058823529411764705, 0.4, 0.08490566037735849, 0.2, 0.3, 0.26666666666666666, 0.30808080808080807, 0.10526315789473684, 0.03389830508474576, 0.046875, 0.06451612903225806, 0.3424657534246575, 0.3333333333333333, 0.07692307692307693, 0.20833333333333334, 0.10526315789473684, 0.12345679012345678, 0.375, 0.3684210526315789, 0.02857142857142857, 0.2, 0.32116788321167883, 0.4186046511627907, 0.14285714285714285, 0.32231404958677684, 0.09090909090909091, 0.27586206896551724, 0.24583476174151525, 0.16666666666666666, 0.07462686567164178, 0.39215686274509803, 0.3870967741935484, 0.23076923076923078, 0.2631578947368421, 0.10810810810810811, 0.1111111111111111]\n"
     ]
    },
    {
     "ename": "ValueError",
     "evalue": "0.4186046511627907 is not in list",
     "output_type": "error",
     "traceback": [
      "\u001b[1;31m---------------------------------------------------------------------------\u001b[0m",
      "\u001b[1;31mValueError\u001b[0m                                Traceback (most recent call last)",
      "\u001b[1;32m<ipython-input-120-1c2ddb9adb1d>\u001b[0m in \u001b[0;36m<module>\u001b[1;34m\u001b[0m\n\u001b[0;32m      9\u001b[0m \u001b[0mlis_percentage\u001b[0m \u001b[1;33m=\u001b[0m \u001b[0mlist\u001b[0m\u001b[1;33m(\u001b[0m\u001b[0msalary_above_50\u001b[0m\u001b[1;33m.\u001b[0m\u001b[0mvalues\u001b[0m\u001b[1;33m(\u001b[0m\u001b[1;33m)\u001b[0m\u001b[1;33m)\u001b[0m\u001b[1;33m\u001b[0m\u001b[1;33m\u001b[0m\u001b[0m\n\u001b[0;32m     10\u001b[0m \u001b[0mprint\u001b[0m\u001b[1;33m(\u001b[0m\u001b[0mlis_percentage\u001b[0m\u001b[1;33m)\u001b[0m\u001b[1;33m\u001b[0m\u001b[1;33m\u001b[0m\u001b[0m\n\u001b[1;32m---> 11\u001b[1;33m \u001b[0mprint\u001b[0m\u001b[1;33m(\u001b[0m\u001b[0mlis_country\u001b[0m\u001b[1;33m.\u001b[0m\u001b[0mindex\u001b[0m\u001b[1;33m(\u001b[0m\u001b[0mmax\u001b[0m\u001b[1;33m(\u001b[0m\u001b[0mlis_percentage\u001b[0m\u001b[1;33m)\u001b[0m\u001b[1;33m)\u001b[0m\u001b[1;33m)\u001b[0m\u001b[1;33m\u001b[0m\u001b[1;33m\u001b[0m\u001b[0m\n\u001b[0m\u001b[0;32m     12\u001b[0m \u001b[1;33m\u001b[0m\u001b[0m\n\u001b[0;32m     13\u001b[0m \u001b[1;33m\u001b[0m\u001b[0m\n",
      "\u001b[1;31mValueError\u001b[0m: 0.4186046511627907 is not in list"
     ]
    }
   ],
   "source": [
    "df = pd.read_csv('adult.data.csv')\n",
    "salary_above_50 = {}\n",
    "for country in set(df['native-country'][df['salary'] == '>50K']):\n",
    "    salary_above_50[country] = salary_above_50.get(country, df['native-country'][df['native-country'] == country][df['salary'] == '>50K']\n",
    "    .count()/df['native-country'][df['native-country'] == country]\n",
    "    .count())\n",
    "print(max(salary_above_50.values()))\n",
    "lis_country = list(salary_above_50.keys())\n",
    "lis_percentage = list(salary_above_50.values())\n",
    "print(lis_percentage)\n",
    "print(lis_country.index(max(lis_percentage)))\n",
    "\n",
    "\n",
    "\n",
    "\n"
   ]
  },
  {
   "cell_type": "code",
   "execution_count": 80,
   "metadata": {},
   "outputs": [
    {
     "ename": "NameError",
     "evalue": "name 'num_min_workers' is not defined",
     "output_type": "error",
     "traceback": [
      "\u001b[1;31m---------------------------------------------------------------------------\u001b[0m",
      "\u001b[1;31mNameError\u001b[0m                                 Traceback (most recent call last)",
      "\u001b[1;32m<ipython-input-80-4d9b863891a0>\u001b[0m in \u001b[0;36m<module>\u001b[1;34m\u001b[0m\n\u001b[1;32m----> 1\u001b[1;33m \u001b[0mrich_percentage\u001b[0m \u001b[1;33m=\u001b[0m \u001b[1;33m(\u001b[0m\u001b[0mdf\u001b[0m\u001b[1;33m[\u001b[0m\u001b[1;34m'salary'\u001b[0m\u001b[1;33m]\u001b[0m\u001b[1;33m[\u001b[0m\u001b[0mdf\u001b[0m\u001b[1;33m[\u001b[0m\u001b[1;34m'salary'\u001b[0m\u001b[1;33m]\u001b[0m \u001b[1;33m==\u001b[0m \u001b[1;34m'>50K'\u001b[0m\u001b[1;33m]\u001b[0m\u001b[1;33m[\u001b[0m\u001b[0mnum_min_workers\u001b[0m\u001b[1;33m]\u001b[0m\u001b[1;33m.\u001b[0m\u001b[0mcount\u001b[0m\u001b[1;33m(\u001b[0m\u001b[1;33m)\u001b[0m\u001b[1;33m)\u001b[0m\u001b[1;33m*\u001b[0m\u001b[1;36m100\u001b[0m\u001b[1;33m/\u001b[0m\u001b[1;33m(\u001b[0m\u001b[0mdf\u001b[0m\u001b[1;33m[\u001b[0m\u001b[1;34m'salary'\u001b[0m\u001b[1;33m]\u001b[0m\u001b[1;33m[\u001b[0m\u001b[0mnum_min_workers\u001b[0m\u001b[1;33m]\u001b[0m\u001b[1;33m.\u001b[0m\u001b[0mcount\u001b[0m\u001b[1;33m(\u001b[0m\u001b[1;33m)\u001b[0m\u001b[1;33m)\u001b[0m\u001b[1;33m\u001b[0m\u001b[1;33m\u001b[0m\u001b[0m\n\u001b[0m",
      "\u001b[1;31mNameError\u001b[0m: name 'num_min_workers' is not defined"
     ]
    }
   ],
   "source": [
    "rich_percentage = (df['salary'][df['salary'] == '>50K'][num_min_workers].count())*100/(df['salary'][num_min_workers].count())"
   ]
  },
  {
   "cell_type": "code",
   "execution_count": 126,
   "metadata": {},
   "outputs": [
    {
     "name": "stderr",
     "output_type": "stream",
     "text": [
      "<ipython-input-125-0b30669bc528>:39: UserWarning: Boolean Series key will be reindexed to match DataFrame index.\n",
      "  rich_percentage = int(len(df[df['salary'] == '>50K'][num_min_workers])*100/len(df['salary'][num_min_workers]))\n"
     ]
    },
    {
     "name": "stdout",
     "output_type": "stream",
     "text": [
      "Number of each race:\n",
      " Amer-Indian-Eskimo    27816\n",
      "Other                  3124\n",
      "White                  1039\n",
      "Asian-Pac-Islander      311\n",
      "Black                   271\n",
      "dtype: int64\n",
      "Average age of men: 39.4\n",
      "Percentage with Bachelors degrees: 16.4%\n",
      "Percentage with higher education that earn >50K: 46.5%\n",
      "Percentage without higher education that earn >50K: 17.4%\n",
      "Min work time: 1 hours/week\n",
      "Percentage of rich among those who work fewest hours: 10%\n",
      "Country with highest percentage of rich: Iran\n",
      "Highest percentage of rich people in country: 41.9%\n",
      "Top occupations in India: Prof-specialty\n"
     ]
    },
    {
     "data": {
      "text/plain": [
       "{'race_count': Amer-Indian-Eskimo    27816\n",
       " Other                  3124\n",
       " White                  1039\n",
       " Asian-Pac-Islander      311\n",
       " Black                   271\n",
       " dtype: int64,\n",
       " 'average_age_men': 39.4,\n",
       " 'percentage_bachelors': 16.4,\n",
       " 'higher_education_rich': 46.5,\n",
       " 'lower_education_rich': 17.4,\n",
       " 'min_work_hours': 1,\n",
       " 'rich_percentage': 10,\n",
       " 'highest_earning_country': 'Iran',\n",
       " 'highest_earning_country_percentage': 41.9,\n",
       " 'top_IN_occupation': 'Prof-specialty'}"
      ]
     },
     "execution_count": 126,
     "metadata": {},
     "output_type": "execute_result"
    }
   ],
   "source": [
    "calculate_demographic_data(print_data=True)"
   ]
  }
 ],
 "metadata": {
  "kernelspec": {
   "display_name": "Python 3.8.1 64-bit",
   "language": "python",
   "name": "python3"
  },
  "language_info": {
   "codemirror_mode": {
    "name": "ipython",
    "version": 3
   },
   "file_extension": ".py",
   "mimetype": "text/x-python",
   "name": "python",
   "nbconvert_exporter": "python",
   "pygments_lexer": "ipython3",
   "version": "3.8.1"
  },
  "orig_nbformat": 4,
  "vscode": {
   "interpreter": {
    "hash": "d186a575b40895af3de1a9a48cdfbadc29a7bf3111f21b25d27c163e8eb0a04b"
   }
  }
 },
 "nbformat": 4,
 "nbformat_minor": 2
}
